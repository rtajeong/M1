{
 "cells": [
  {
   "cell_type": "code",
   "execution_count": 3,
   "metadata": {},
   "outputs": [
    {
     "name": "stdout",
     "output_type": "stream",
     "text": [
      "3.1408\n"
     ]
    }
   ],
   "source": [
    "import numpy as np\n",
    "\n",
    "# simple code for cqalculating pi\n",
    "N=10000\n",
    "x=np.random.rand(N).round(2)          # simple version\n",
    "y=np.random.rand(N).round(2)\n",
    "\n",
    "cnt=0\n",
    "for n in range (N):\n",
    "    if ((x[n]*x[n]) + (y[n]*y[n]) < 1.0) :\n",
    "        cnt += 1\n",
    "    else :\n",
    "        continue\n",
    "pi = 4*cnt/N\n",
    "print(pi)"
   ]
  }
 ],
 "metadata": {
  "kernelspec": {
   "display_name": "Python 3",
   "language": "python",
   "name": "python3"
  },
  "language_info": {
   "codemirror_mode": {
    "name": "ipython",
    "version": 3
   },
   "file_extension": ".py",
   "mimetype": "text/x-python",
   "name": "python",
   "nbconvert_exporter": "python",
   "pygments_lexer": "ipython3",
   "version": "3.6.8"
  }
 },
 "nbformat": 4,
 "nbformat_minor": 2
}
