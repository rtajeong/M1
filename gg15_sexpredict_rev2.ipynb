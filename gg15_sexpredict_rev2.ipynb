{
  "nbformat": 4,
  "nbformat_minor": 0,
  "metadata": {
    "kernelspec": {
      "display_name": "Python 3",
      "language": "python",
      "name": "python3"
    },
    "language_info": {
      "codemirror_mode": {
        "name": "ipython",
        "version": 3
      },
      "file_extension": ".py",
      "mimetype": "text/x-python",
      "name": "python",
      "nbconvert_exporter": "python",
      "pygments_lexer": "ipython3",
      "version": "3.6.8"
    },
    "colab": {
      "provenance": [],
      "collapsed_sections": [
        "EAmPhsuSO5PC"
      ],
      "toc_visible": true,
      "include_colab_link": true
    }
  },
  "cells": [
    {
      "cell_type": "markdown",
      "metadata": {
        "id": "view-in-github",
        "colab_type": "text"
      },
      "source": [
        "<a href=\"https://colab.research.google.com/github/rtajeong/M1/blob/main/gg15_sexpredict_rev2.ipynb\" target=\"_parent\"><img src=\"https://colab.research.google.com/assets/colab-badge.svg\" alt=\"Open In Colab\"/></a>"
      ]
    },
    {
      "cell_type": "markdown",
      "metadata": {
        "id": "p2bG8N_iO5Oy"
      },
      "source": [
        "# 영문 이름으로 성별 예측"
      ]
    },
    {
      "cell_type": "markdown",
      "metadata": {
        "id": "F_Hq85u4O5O5"
      },
      "source": [
        "### NLTK(Natural Language Toolkit) 패키지\n",
        "- NLTK는 교육용으로 개발된 자연어 처리 및 문서 분석용 파이썬 패키지다. 다양한 기능 및 예제를 가지고 있으며 실무 및 연구에서도 \n",
        "많이 사용된다. NLTK 패키지가 제공하는 주요 기능은 다음과 같다.\n",
        "\n",
        " * 말뭉치\n",
        " * 토큰 생성\n",
        " * 형태소 분석\n",
        " * 품사 태깅\n",
        " \n",
        "- 말뭉치\n",
        "말뭉치(corpus)는 자연어 분석 작업을 위해 만든 샘플 문서 집합을 말한다. 단순히 소설, 신문 등의 문서를 모아놓은 것도 \n",
        "있지만 품사. 형태소, 등의 보조적 의미를 추가하고 쉬운 분석을 위해 구조적인 형태로 정리해 놓은 것을 포함한다. \n",
        "NLTK 패키지의 corpus 서브패키지에서는 다양한 연구용 말뭉치를 제공한다. 이 목록은 전체 corpus의 일부일 뿐이다. \n",
        "말뭉치 자료는 설치시에 제공되지 않고 download 명령으로 사용자가 다운로드 받아야 한다. nltk.download('book') \n",
        "명령을 실행하면 NLTK 패키지 사용자 설명서에서 요구하는 대부분의 말뭉치를 다운로드 받아준다."
      ]
    },
    {
      "cell_type": "code",
      "metadata": {
        "scrolled": true,
        "colab": {
          "base_uri": "https://localhost:8080/"
        },
        "id": "d4XM15-BO5O6",
        "outputId": "cb464a29-95b9-481e-e9c3-91f89a2932c4"
      },
      "source": [
        "from nltk.corpus import names          # nltk: national language toolkit (자연어처리 패키지)\n",
        "import nltk\n",
        "nltk.download('names')"
      ],
      "execution_count": null,
      "outputs": [
        {
          "output_type": "stream",
          "name": "stderr",
          "text": [
            "[nltk_data] Downloading package names to /root/nltk_data...\n",
            "[nltk_data]   Unzipping corpora/names.zip.\n"
          ]
        },
        {
          "output_type": "execute_result",
          "data": {
            "text/plain": [
              "True"
            ]
          },
          "metadata": {},
          "execution_count": 1
        }
      ]
    },
    {
      "cell_type": "code",
      "metadata": {
        "colab": {
          "base_uri": "https://localhost:8080/"
        },
        "id": "DQOT-WpMO5O7",
        "outputId": "fe58d517-7b98-4283-a53c-320c1b132bc9"
      },
      "source": [
        "names.words()[:5]"
      ],
      "execution_count": null,
      "outputs": [
        {
          "output_type": "execute_result",
          "data": {
            "text/plain": [
              "['Abagael', 'Abagail', 'Abbe', 'Abbey', 'Abbi']"
            ]
          },
          "metadata": {},
          "execution_count": 2
        }
      ]
    },
    {
      "cell_type": "code",
      "metadata": {
        "colab": {
          "base_uri": "https://localhost:8080/"
        },
        "id": "PnvqZDouO5O8",
        "outputId": "35d0203c-15eb-418c-b2ed-e1b8d8029fad"
      },
      "source": [
        "names.words('male.txt')[:5]    # list"
      ],
      "execution_count": null,
      "outputs": [
        {
          "output_type": "execute_result",
          "data": {
            "text/plain": [
              "['Aamir', 'Aaron', 'Abbey', 'Abbie', 'Abbot']"
            ]
          },
          "metadata": {},
          "execution_count": 3
        }
      ]
    },
    {
      "cell_type": "code",
      "metadata": {
        "scrolled": false,
        "colab": {
          "base_uri": "https://localhost:8080/"
        },
        "id": "8w7ctQxeO5O9",
        "outputId": "72ad1562-9ded-4ca5-fcda-bcfeed2c2ee8"
      },
      "source": [
        "# 남자 이름과 여자 이름이 데이터베이스가 나뉘어 있음\n",
        "labeled_names = [(name, '남자') for name in names.words('male.txt')] +   \\\n",
        "                 [(name, '여자') for name in names.words('female.txt')]   # list\n",
        "                 \n",
        "labeled_names[:5], labeled_names[-5:]"
      ],
      "execution_count": null,
      "outputs": [
        {
          "output_type": "execute_result",
          "data": {
            "text/plain": [
              "([('Aamir', '남자'),\n",
              "  ('Aaron', '남자'),\n",
              "  ('Abbey', '남자'),\n",
              "  ('Abbie', '남자'),\n",
              "  ('Abbot', '남자')],\n",
              " [('Zorine', '여자'),\n",
              "  ('Zsa Zsa', '여자'),\n",
              "  ('Zsazsa', '여자'),\n",
              "  ('Zulema', '여자'),\n",
              "  ('Zuzana', '여자')])"
            ]
          },
          "metadata": {},
          "execution_count": 4
        }
      ]
    },
    {
      "cell_type": "markdown",
      "metadata": {
        "id": "htysaa-7PjPt"
      },
      "source": [
        "- 앞에는 남자, 뒤에는 여자의 이름이 들어 있다. 데이터 분석에서 랜덤한 성격을 주기 위해서 이들을 랜덤하게 섞는 작업이 필요하다. 이를 위해서 shuffle() 함수를 사용한다."
      ]
    },
    {
      "cell_type": "code",
      "metadata": {
        "colab": {
          "base_uri": "https://localhost:8080/"
        },
        "id": "Ae5Atx8bO5O9",
        "outputId": "67257caf-8645-4592-d8e8-6928163a657d"
      },
      "source": [
        "import random\n",
        "random.shuffle(labeled_names)\n",
        "labeled_names[:10]"
      ],
      "execution_count": null,
      "outputs": [
        {
          "output_type": "execute_result",
          "data": {
            "text/plain": [
              "[('Aurelie', '여자'),\n",
              " ('Margareta', '여자'),\n",
              " ('Marcella', '여자'),\n",
              " ('Marion', '남자'),\n",
              " ('Chandra', '여자'),\n",
              " ('Stormy', '여자'),\n",
              " ('Constance', '여자'),\n",
              " ('Lizabeth', '여자'),\n",
              " ('Rochella', '여자'),\n",
              " ('Carmita', '여자')]"
            ]
          },
          "metadata": {},
          "execution_count": 5
        }
      ]
    },
    {
      "cell_type": "code",
      "metadata": {
        "colab": {
          "base_uri": "https://localhost:8080/"
        },
        "id": "nws2BsQSO5O-",
        "outputId": "a97aa0ae-092e-44bb-d351-fdefb7c5de85"
      },
      "source": [
        "len(labeled_names)"
      ],
      "execution_count": null,
      "outputs": [
        {
          "output_type": "execute_result",
          "data": {
            "text/plain": [
              "7944"
            ]
          },
          "metadata": {},
          "execution_count": 6
        }
      ]
    },
    {
      "cell_type": "markdown",
      "metadata": {
        "id": "bgpGh1TuQr_Q"
      },
      "source": [
        "- 이름의 마지막 글자를 얻는 함수 gender_features()라고 만들었다."
      ]
    },
    {
      "cell_type": "code",
      "metadata": {
        "colab": {
          "base_uri": "https://localhost:8080/"
        },
        "id": "ngOz2wbFO5O-",
        "outputId": "e3df41e4-ffc0-496d-d6b4-6196107b1548"
      },
      "source": [
        "# 이름의 마지막 알파벳을 특성으로 사용 (이게 성별과 관련이 많다고 알려짐)\n",
        "def gender_features(word):\n",
        "    return {'last_letter': word[-1]}\n",
        "\n",
        "gender_features('Sopi')"
      ],
      "execution_count": null,
      "outputs": [
        {
          "output_type": "execute_result",
          "data": {
            "text/plain": [
              "{'last_letter': 'i'}"
            ]
          },
          "metadata": {},
          "execution_count": 7
        }
      ]
    },
    {
      "cell_type": "code",
      "metadata": {
        "colab": {
          "base_uri": "https://localhost:8080/"
        },
        "id": "FE3LzMf0O5O-",
        "outputId": "1bb5b17f-3ba6-49ac-b88d-4a10f0c407ae"
      },
      "source": [
        "featuresets = [(gender_features(n), gender) for (n, gender) in labeled_names]\n",
        "featuresets[0:10]"
      ],
      "execution_count": null,
      "outputs": [
        {
          "output_type": "execute_result",
          "data": {
            "text/plain": [
              "[({'last_letter': 'e'}, '여자'),\n",
              " ({'last_letter': 'a'}, '여자'),\n",
              " ({'last_letter': 'a'}, '여자'),\n",
              " ({'last_letter': 'n'}, '남자'),\n",
              " ({'last_letter': 'a'}, '여자'),\n",
              " ({'last_letter': 'y'}, '여자'),\n",
              " ({'last_letter': 'e'}, '여자'),\n",
              " ({'last_letter': 'h'}, '여자'),\n",
              " ({'last_letter': 'a'}, '여자'),\n",
              " ({'last_letter': 'a'}, '여자')]"
            ]
          },
          "metadata": {},
          "execution_count": 8
        }
      ]
    },
    {
      "cell_type": "code",
      "metadata": {
        "colab": {
          "base_uri": "https://localhost:8080/"
        },
        "id": "5py_vBAGO5O_",
        "outputId": "e600b70f-80a8-468a-a340-89ce7d5f288d"
      },
      "source": [
        "len(featuresets)"
      ],
      "execution_count": null,
      "outputs": [
        {
          "output_type": "execute_result",
          "data": {
            "text/plain": [
              "7944"
            ]
          },
          "metadata": {},
          "execution_count": 9
        }
      ]
    },
    {
      "cell_type": "code",
      "metadata": {
        "id": "o0H17Y1ZO5O_"
      },
      "source": [
        "train_set, test_set = featuresets[2000:], featuresets[:2000]\n",
        "classifier = nltk.NaiveBayesClassifier.train(train_set)"
      ],
      "execution_count": null,
      "outputs": []
    },
    {
      "cell_type": "code",
      "metadata": {
        "scrolled": true,
        "colab": {
          "base_uri": "https://localhost:8080/",
          "height": 36
        },
        "id": "6_aHZqqvO5O_",
        "outputId": "24a69346-4387-4eb9-e14e-704e6b421ccc"
      },
      "source": [
        "classifier.classify(gender_features('Sephipa'))   # predict"
      ],
      "execution_count": null,
      "outputs": [
        {
          "output_type": "execute_result",
          "data": {
            "text/plain": [
              "'여자'"
            ],
            "application/vnd.google.colaboratory.intrinsic+json": {
              "type": "string"
            }
          },
          "metadata": {},
          "execution_count": 11
        }
      ]
    },
    {
      "cell_type": "code",
      "metadata": {
        "colab": {
          "base_uri": "https://localhost:8080/",
          "height": 36
        },
        "id": "OVcFafaxO5O_",
        "outputId": "cfa3fd17-9387-45ce-e0a9-9afa6a21daca"
      },
      "source": [
        "classifier.classify(gender_features('Chanho'))"
      ],
      "execution_count": null,
      "outputs": [
        {
          "output_type": "execute_result",
          "data": {
            "text/plain": [
              "'남자'"
            ],
            "application/vnd.google.colaboratory.intrinsic+json": {
              "type": "string"
            }
          },
          "metadata": {},
          "execution_count": 12
        }
      ]
    },
    {
      "cell_type": "code",
      "metadata": {
        "colab": {
          "base_uri": "https://localhost:8080/"
        },
        "id": "eB0wEMe-O5PA",
        "outputId": "3e6b533f-51f2-45e4-a681-f7b3e253d1a3"
      },
      "source": [
        "# 분류 모델이 동작을 할 때 어떤 요소들이 중요한 역할을 했는지를 아래와 같이 알아 볼 수 있다. \n",
        "# 여기서는 중요한 요소 상위 5개만 출력\n",
        "classifier.show_most_informative_features(5)"
      ],
      "execution_count": null,
      "outputs": [
        {
          "output_type": "stream",
          "name": "stdout",
          "text": [
            "Most Informative Features\n",
            "             last_letter = 'a'                여자 : 남자     =     38.0 : 1.0\n",
            "             last_letter = 'k'                남자 : 여자     =     35.9 : 1.0\n",
            "             last_letter = 'f'                남자 : 여자     =     12.6 : 1.0\n",
            "             last_letter = 'm'                남자 : 여자     =     10.9 : 1.0\n",
            "             last_letter = 'd'                남자 : 여자     =      9.3 : 1.0\n"
          ]
        }
      ]
    },
    {
      "cell_type": "code",
      "metadata": {
        "colab": {
          "base_uri": "https://localhost:8080/"
        },
        "id": "ju_6YfGhO5PA",
        "outputId": "74a7ccfb-dd98-49fc-dba4-4b570ae3783d"
      },
      "source": [
        "print(nltk.classify.accuracy(classifier, test_set))"
      ],
      "execution_count": null,
      "outputs": [
        {
          "output_type": "stream",
          "name": "stdout",
          "text": [
            "0.7575\n"
          ]
        }
      ]
    },
    {
      "cell_type": "markdown",
      "metadata": {
        "id": "WRvUYpfiO5PA"
      },
      "source": [
        "### 다양한 특성 사용\n",
        "- 이번에는 새로운 특성을 사용해 본다. 이름의 첫 번째 글자, 이름의 길이, 그리고 각 알파벳이 몇 번 등장했는지를 추가로 특성으로 사용해보겠다. \n",
        "- features에 다음과 같이 특성 컬럼 들을 추가했다. 이러한 특성을 얻는 함수를 gender_features2라고 정의했다."
      ]
    },
    {
      "cell_type": "code",
      "metadata": {
        "scrolled": true,
        "colab": {
          "base_uri": "https://localhost:8080/"
        },
        "id": "akOaDFH4O5PA",
        "outputId": "1b6ca234-bf7d-4635-a127-959bd1e49724"
      },
      "source": [
        "def gender_features2(name):\n",
        "    features = {}                                   # dict\n",
        "    features[\"first_letter\"] = name[0].lower()\n",
        "    features[\"last_letter\"] = name[-1].lower()\n",
        "    features[\"length\"] = len(name)\n",
        "    for letter in 'abcdefghijklmnopqrstuvwxyz':\n",
        "        features[\"count({})\".format(letter)] = name.lower().count(letter)\n",
        "        features[\"has({})\".format(letter)] = (letter in name.lower())\n",
        "    return features\n",
        "\n",
        "gender_features2('Josssshua')"
      ],
      "execution_count": null,
      "outputs": [
        {
          "output_type": "execute_result",
          "data": {
            "text/plain": [
              "{'first_letter': 'j',\n",
              " 'last_letter': 'a',\n",
              " 'length': 9,\n",
              " 'count(a)': 1,\n",
              " 'has(a)': True,\n",
              " 'count(b)': 0,\n",
              " 'has(b)': False,\n",
              " 'count(c)': 0,\n",
              " 'has(c)': False,\n",
              " 'count(d)': 0,\n",
              " 'has(d)': False,\n",
              " 'count(e)': 0,\n",
              " 'has(e)': False,\n",
              " 'count(f)': 0,\n",
              " 'has(f)': False,\n",
              " 'count(g)': 0,\n",
              " 'has(g)': False,\n",
              " 'count(h)': 1,\n",
              " 'has(h)': True,\n",
              " 'count(i)': 0,\n",
              " 'has(i)': False,\n",
              " 'count(j)': 1,\n",
              " 'has(j)': True,\n",
              " 'count(k)': 0,\n",
              " 'has(k)': False,\n",
              " 'count(l)': 0,\n",
              " 'has(l)': False,\n",
              " 'count(m)': 0,\n",
              " 'has(m)': False,\n",
              " 'count(n)': 0,\n",
              " 'has(n)': False,\n",
              " 'count(o)': 1,\n",
              " 'has(o)': True,\n",
              " 'count(p)': 0,\n",
              " 'has(p)': False,\n",
              " 'count(q)': 0,\n",
              " 'has(q)': False,\n",
              " 'count(r)': 0,\n",
              " 'has(r)': False,\n",
              " 'count(s)': 4,\n",
              " 'has(s)': True,\n",
              " 'count(t)': 0,\n",
              " 'has(t)': False,\n",
              " 'count(u)': 1,\n",
              " 'has(u)': True,\n",
              " 'count(v)': 0,\n",
              " 'has(v)': False,\n",
              " 'count(w)': 0,\n",
              " 'has(w)': False,\n",
              " 'count(x)': 0,\n",
              " 'has(x)': False,\n",
              " 'count(y)': 0,\n",
              " 'has(y)': False,\n",
              " 'count(z)': 0,\n",
              " 'has(z)': False}"
            ]
          },
          "metadata": {},
          "execution_count": 15
        }
      ]
    },
    {
      "cell_type": "code",
      "metadata": {
        "colab": {
          "base_uri": "https://localhost:8080/"
        },
        "id": "ZANGrvMqO5PB",
        "outputId": "4859b5f1-454b-4ab1-ef8e-77e5aa25cdaa"
      },
      "source": [
        "labeled_names[0:10]"
      ],
      "execution_count": null,
      "outputs": [
        {
          "output_type": "execute_result",
          "data": {
            "text/plain": [
              "[('Aurelie', '여자'),\n",
              " ('Margareta', '여자'),\n",
              " ('Marcella', '여자'),\n",
              " ('Marion', '남자'),\n",
              " ('Chandra', '여자'),\n",
              " ('Stormy', '여자'),\n",
              " ('Constance', '여자'),\n",
              " ('Lizabeth', '여자'),\n",
              " ('Rochella', '여자'),\n",
              " ('Carmita', '여자')]"
            ]
          },
          "metadata": {},
          "execution_count": 16
        }
      ]
    },
    {
      "cell_type": "code",
      "metadata": {
        "scrolled": true,
        "colab": {
          "base_uri": "https://localhost:8080/"
        },
        "id": "acBcNZUDO5PB",
        "outputId": "9026958a-eea0-4a3c-a451-099ff15f0f6c"
      },
      "source": [
        "featuresets = [(gender_features2(n), gender) for (n, gender) in labeled_names]\n",
        "featuresets[0]"
      ],
      "execution_count": null,
      "outputs": [
        {
          "output_type": "execute_result",
          "data": {
            "text/plain": [
              "({'first_letter': 'a',\n",
              "  'last_letter': 'e',\n",
              "  'length': 7,\n",
              "  'count(a)': 1,\n",
              "  'has(a)': True,\n",
              "  'count(b)': 0,\n",
              "  'has(b)': False,\n",
              "  'count(c)': 0,\n",
              "  'has(c)': False,\n",
              "  'count(d)': 0,\n",
              "  'has(d)': False,\n",
              "  'count(e)': 2,\n",
              "  'has(e)': True,\n",
              "  'count(f)': 0,\n",
              "  'has(f)': False,\n",
              "  'count(g)': 0,\n",
              "  'has(g)': False,\n",
              "  'count(h)': 0,\n",
              "  'has(h)': False,\n",
              "  'count(i)': 1,\n",
              "  'has(i)': True,\n",
              "  'count(j)': 0,\n",
              "  'has(j)': False,\n",
              "  'count(k)': 0,\n",
              "  'has(k)': False,\n",
              "  'count(l)': 1,\n",
              "  'has(l)': True,\n",
              "  'count(m)': 0,\n",
              "  'has(m)': False,\n",
              "  'count(n)': 0,\n",
              "  'has(n)': False,\n",
              "  'count(o)': 0,\n",
              "  'has(o)': False,\n",
              "  'count(p)': 0,\n",
              "  'has(p)': False,\n",
              "  'count(q)': 0,\n",
              "  'has(q)': False,\n",
              "  'count(r)': 1,\n",
              "  'has(r)': True,\n",
              "  'count(s)': 0,\n",
              "  'has(s)': False,\n",
              "  'count(t)': 0,\n",
              "  'has(t)': False,\n",
              "  'count(u)': 1,\n",
              "  'has(u)': True,\n",
              "  'count(v)': 0,\n",
              "  'has(v)': False,\n",
              "  'count(w)': 0,\n",
              "  'has(w)': False,\n",
              "  'count(x)': 0,\n",
              "  'has(x)': False,\n",
              "  'count(y)': 0,\n",
              "  'has(y)': False,\n",
              "  'count(z)': 0,\n",
              "  'has(z)': False},\n",
              " '여자')"
            ]
          },
          "metadata": {},
          "execution_count": 17
        }
      ]
    },
    {
      "cell_type": "code",
      "metadata": {
        "scrolled": true,
        "colab": {
          "base_uri": "https://localhost:8080/"
        },
        "id": "EBZf_NjYO5PB",
        "outputId": "f59a9014-4856-43d0-f05d-dddccfe19133"
      },
      "source": [
        "train_set, test_set = featuresets[2000:], featuresets[:2000]\n",
        "classifier = nltk.NaiveBayesClassifier.train(train_set)\n",
        "print(nltk.classify.accuracy(classifier, test_set))"
      ],
      "execution_count": null,
      "outputs": [
        {
          "output_type": "stream",
          "name": "stdout",
          "text": [
            "0.774\n"
          ]
        }
      ]
    },
    {
      "cell_type": "code",
      "metadata": {
        "scrolled": true,
        "colab": {
          "base_uri": "https://localhost:8080/"
        },
        "id": "M8KiJL2dO5PB",
        "outputId": "2657f8c8-d660-41e2-86db-a3efa8631e93"
      },
      "source": [
        "classifier.show_most_informative_features(20)   # last letter 가 가장  중요한 역할을 하는 것을 볼 수 있음"
      ],
      "execution_count": null,
      "outputs": [
        {
          "output_type": "stream",
          "name": "stdout",
          "text": [
            "Most Informative Features\n",
            "             last_letter = 'a'                여자 : 남자     =     38.0 : 1.0\n",
            "             last_letter = 'k'                남자 : 여자     =     35.9 : 1.0\n",
            "             last_letter = 'f'                남자 : 여자     =     12.6 : 1.0\n",
            "             last_letter = 'm'                남자 : 여자     =     10.9 : 1.0\n",
            "             last_letter = 'd'                남자 : 여자     =      9.3 : 1.0\n",
            "             last_letter = 'v'                남자 : 여자     =      9.2 : 1.0\n",
            "             last_letter = 'o'                남자 : 여자     =      7.3 : 1.0\n",
            "             last_letter = 'z'                남자 : 여자     =      7.2 : 1.0\n",
            "             last_letter = 'r'                남자 : 여자     =      6.2 : 1.0\n",
            "                count(a) = 3                  여자 : 남자     =      5.8 : 1.0\n",
            "             last_letter = 'b'                남자 : 여자     =      4.8 : 1.0\n",
            "             last_letter = 'g'                남자 : 여자     =      4.6 : 1.0\n",
            "                count(y) = 2                  여자 : 남자     =      4.6 : 1.0\n",
            "             last_letter = 's'                남자 : 여자     =      4.5 : 1.0\n",
            "            first_letter = 'w'                남자 : 여자     =      4.5 : 1.0\n",
            "                count(w) = 1                  남자 : 여자     =      4.5 : 1.0\n",
            "                  has(w) = True               남자 : 여자     =      4.4 : 1.0\n",
            "                count(m) = 3                  남자 : 여자     =      4.0 : 1.0\n",
            "             last_letter = 'j'                남자 : 여자     =      4.0 : 1.0\n",
            "             last_letter = 'i'                여자 : 남자     =      4.0 : 1.0\n"
          ]
        }
      ]
    },
    {
      "cell_type": "markdown",
      "metadata": {
        "id": "EAmPhsuSO5PC"
      },
      "source": [
        "### 위의 결과를 보면,\n",
        "- 이번 분류에 가장 영향을 많이 준 요소를 20 개 출력했음.\n",
        "- 이름의 마지막 글자가 대부분 중요한 역할을 하고 있음 관찰.\n",
        "- 'a' 가 세 개 포함되면 여성의 비율이 높고, 첫 글자가 'w' 이거나 'w' 의 수가 한 개이면 남성의 비율이 높음."
      ]
    },
    {
      "cell_type": "markdown",
      "metadata": {
        "id": "tzAVc5eIO5PC"
      },
      "source": [
        "### 검증 대이터에 대해 성능 평가\n",
        "- 특성 추출에는 gender_features() 를 사용하고 성능은 아래와 같음."
      ]
    },
    {
      "cell_type": "code",
      "metadata": {
        "colab": {
          "base_uri": "https://localhost:8080/"
        },
        "id": "qteKyJjoO5PC",
        "outputId": "19cf00ca-3c33-4531-9150-a91a1c77821f"
      },
      "source": [
        "print(len(labeled_names))\n",
        "labeled_names[:5]   # list "
      ],
      "execution_count": null,
      "outputs": [
        {
          "output_type": "stream",
          "name": "stdout",
          "text": [
            "7944\n"
          ]
        },
        {
          "output_type": "execute_result",
          "data": {
            "text/plain": [
              "[('Aurelie', '여자'),\n",
              " ('Margareta', '여자'),\n",
              " ('Marcella', '여자'),\n",
              " ('Marion', '남자'),\n",
              " ('Chandra', '여자')]"
            ]
          },
          "metadata": {},
          "execution_count": 20
        }
      ]
    },
    {
      "cell_type": "code",
      "metadata": {
        "id": "etKsRqQxO5PC"
      },
      "source": [
        "# 검증 데이터에 대해 성능 평가\n",
        "train_names = labeled_names[1500:]\n",
        "devtest_names = labeled_names[500:1500]\n",
        "test_names = labeled_names[:500]"
      ],
      "execution_count": null,
      "outputs": []
    },
    {
      "cell_type": "code",
      "metadata": {
        "colab": {
          "base_uri": "https://localhost:8080/"
        },
        "id": "0JmkHvPnO5PC",
        "outputId": "53e1a4d9-db9f-4e9c-eb73-e7d1354ab4eb"
      },
      "source": [
        "train_set = [(gender_features(n), gender) for (n, gender) in train_names]\n",
        "devtest_set = [(gender_features(n), gender) for (n, gender) in devtest_names]\n",
        "test_set = [(gender_features(n), gender) for (n, gender) in test_names]\n",
        "classifier = nltk.NaiveBayesClassifier.train(train_set)\n",
        "print(nltk.classify.accuracy(classifier, devtest_set)) "
      ],
      "execution_count": null,
      "outputs": [
        {
          "output_type": "stream",
          "name": "stdout",
          "text": [
            "0.762\n"
          ]
        }
      ]
    },
    {
      "cell_type": "code",
      "metadata": {
        "colab": {
          "base_uri": "https://localhost:8080/"
        },
        "id": "n_kuuxqSO5PD",
        "outputId": "60019732-cc1f-4025-89b3-c8ddbe73e206"
      },
      "source": [
        "train_set[:20]"
      ],
      "execution_count": null,
      "outputs": [
        {
          "output_type": "execute_result",
          "data": {
            "text/plain": [
              "[({'last_letter': 'd'}, '남자'),\n",
              " ({'last_letter': 'y'}, '남자'),\n",
              " ({'last_letter': 'l'}, '여자'),\n",
              " ({'last_letter': 'a'}, '여자'),\n",
              " ({'last_letter': 'n'}, '남자'),\n",
              " ({'last_letter': 'y'}, '여자'),\n",
              " ({'last_letter': 'a'}, '여자'),\n",
              " ({'last_letter': 'k'}, '남자'),\n",
              " ({'last_letter': 'e'}, '남자'),\n",
              " ({'last_letter': 'a'}, '여자'),\n",
              " ({'last_letter': 'n'}, '남자'),\n",
              " ({'last_letter': 'e'}, '여자'),\n",
              " ({'last_letter': 's'}, '남자'),\n",
              " ({'last_letter': 'a'}, '여자'),\n",
              " ({'last_letter': 'e'}, '여자'),\n",
              " ({'last_letter': 'e'}, '남자'),\n",
              " ({'last_letter': 'o'}, '여자'),\n",
              " ({'last_letter': 'i'}, '여자'),\n",
              " ({'last_letter': 'o'}, '남자'),\n",
              " ({'last_letter': 'a'}, '여자')]"
            ]
          },
          "metadata": {},
          "execution_count": 23
        }
      ]
    },
    {
      "cell_type": "markdown",
      "metadata": {
        "id": "cEeA6rrL0OfH"
      },
      "source": [
        "#### 잘못 예측한 내용을 나열해 보자"
      ]
    },
    {
      "cell_type": "code",
      "metadata": {
        "id": "PxewDSi-O5PD"
      },
      "source": [
        "errors = []\n",
        "for (name, tag) in devtest_names:\n",
        "    guess = classifier.classify(gender_features(name))\n",
        "    if guess != tag:\n",
        "        errors.append( (tag, guess, name) )"
      ],
      "execution_count": null,
      "outputs": []
    },
    {
      "cell_type": "code",
      "metadata": {
        "colab": {
          "base_uri": "https://localhost:8080/"
        },
        "id": "dTp_r3fUO5PD",
        "outputId": "0f72f461-b4b6-44d8-b59f-2bbf601c58b4"
      },
      "source": [
        "for (tag, guess, name) in sorted(errors):\n",
        "    print('correct={:<8s} guess={:<8s} name={:<30}'.format(tag, guess, name))\n",
        "                                                # < : Left aligned to the remaining space (<, >, ^, =)"
      ],
      "execution_count": null,
      "outputs": [
        {
          "output_type": "stream",
          "name": "stdout",
          "text": [
            "correct=남자       guess=여자       name=Aguste                        \n",
            "correct=남자       guess=여자       name=Andie                         \n",
            "correct=남자       guess=여자       name=Anthony                       \n",
            "correct=남자       guess=여자       name=Arie                          \n",
            "correct=남자       guess=여자       name=Aristotle                     \n",
            "correct=남자       guess=여자       name=Arvy                          \n",
            "correct=남자       guess=여자       name=Avi                           \n",
            "correct=남자       guess=여자       name=Barnaby                       \n",
            "correct=남자       guess=여자       name=Barnie                        \n",
            "correct=남자       guess=여자       name=Berkley                       \n",
            "correct=남자       guess=여자       name=Burnaby                       \n",
            "correct=남자       guess=여자       name=Charlie                       \n",
            "correct=남자       guess=여자       name=Claire                        \n",
            "correct=남자       guess=여자       name=Clancy                        \n",
            "correct=남자       guess=여자       name=Daffy                         \n",
            "correct=남자       guess=여자       name=Dani                          \n",
            "correct=남자       guess=여자       name=Denny                         \n",
            "correct=남자       guess=여자       name=Dimitry                       \n",
            "correct=남자       guess=여자       name=Dominique                     \n",
            "correct=남자       guess=여자       name=Dory                          \n",
            "correct=남자       guess=여자       name=Durante                       \n",
            "correct=남자       guess=여자       name=Earle                         \n",
            "correct=남자       guess=여자       name=Eddie                         \n",
            "correct=남자       guess=여자       name=Ernie                         \n",
            "correct=남자       guess=여자       name=Esme                          \n",
            "correct=남자       guess=여자       name=Gabriele                      \n",
            "correct=남자       guess=여자       name=Garcia                        \n",
            "correct=남자       guess=여자       name=Giavani                       \n",
            "correct=남자       guess=여자       name=Giffy                         \n",
            "correct=남자       guess=여자       name=Godfree                       \n",
            "correct=남자       guess=여자       name=Grady                         \n",
            "correct=남자       guess=여자       name=Hadleigh                      \n",
            "correct=남자       guess=여자       name=Hailey                        \n",
            "correct=남자       guess=여자       name=Haley                         \n",
            "correct=남자       guess=여자       name=Herby                         \n",
            "correct=남자       guess=여자       name=Hersch                        \n",
            "correct=남자       guess=여자       name=Herve                         \n",
            "correct=남자       guess=여자       name=Hervey                        \n",
            "correct=남자       guess=여자       name=Hillery                       \n",
            "correct=남자       guess=여자       name=Huntley                       \n",
            "correct=남자       guess=여자       name=Isadore                       \n",
            "correct=남자       guess=여자       name=Jaime                         \n",
            "correct=남자       guess=여자       name=Jermaine                      \n",
            "correct=남자       guess=여자       name=Jeromy                        \n",
            "correct=남자       guess=여자       name=Jerrome                       \n",
            "correct=남자       guess=여자       name=Jodi                          \n",
            "correct=남자       guess=여자       name=Joe                           \n",
            "correct=남자       guess=여자       name=Joshuah                       \n",
            "correct=남자       guess=여자       name=Josiah                        \n",
            "correct=남자       guess=여자       name=Judah                         \n",
            "correct=남자       guess=여자       name=Jude                          \n",
            "correct=남자       guess=여자       name=Keefe                         \n",
            "correct=남자       guess=여자       name=Kelsey                        \n",
            "correct=남자       guess=여자       name=Lanny                         \n",
            "correct=남자       guess=여자       name=Lee                           \n",
            "correct=남자       guess=여자       name=Lorne                         \n",
            "correct=남자       guess=여자       name=Mahesh                        \n",
            "correct=남자       guess=여자       name=Martie                        \n",
            "correct=남자       guess=여자       name=Marve                         \n",
            "correct=남자       guess=여자       name=Mordecai                      \n",
            "correct=남자       guess=여자       name=Morly                         \n",
            "correct=남자       guess=여자       name=Mose                          \n",
            "correct=남자       guess=여자       name=Munroe                        \n",
            "correct=남자       guess=여자       name=Murray                        \n",
            "correct=남자       guess=여자       name=Nevile                        \n",
            "correct=남자       guess=여자       name=Nicky                         \n",
            "correct=남자       guess=여자       name=Niki                          \n",
            "correct=남자       guess=여자       name=Ole                           \n",
            "correct=남자       guess=여자       name=Olle                          \n",
            "correct=남자       guess=여자       name=Orville                       \n",
            "correct=남자       guess=여자       name=Parke                         \n",
            "correct=남자       guess=여자       name=Pate                          \n",
            "correct=남자       guess=여자       name=Patsy                         \n",
            "correct=남자       guess=여자       name=Patty                         \n",
            "correct=남자       guess=여자       name=Ralph                         \n",
            "correct=남자       guess=여자       name=Ramsay                        \n",
            "correct=남자       guess=여자       name=Reggie                        \n",
            "correct=남자       guess=여자       name=Reilly                        \n",
            "correct=남자       guess=여자       name=Reza                          \n",
            "correct=남자       guess=여자       name=Rickie                        \n",
            "correct=남자       guess=여자       name=Rikki                         \n",
            "correct=남자       guess=여자       name=Roarke                        \n",
            "correct=남자       guess=여자       name=Robbie                        \n",
            "correct=남자       guess=여자       name=Rodolph                       \n",
            "correct=남자       guess=여자       name=Ronny                         \n",
            "correct=남자       guess=여자       name=Rory                          \n",
            "correct=남자       guess=여자       name=Salomone                      \n",
            "correct=남자       guess=여자       name=Samuele                       \n",
            "correct=남자       guess=여자       name=Sascha                        \n",
            "correct=남자       guess=여자       name=Sasha                         \n",
            "correct=남자       guess=여자       name=Sawyere                       \n",
            "correct=남자       guess=여자       name=Shayne                        \n",
            "correct=남자       guess=여자       name=Sheffy                        \n",
            "correct=남자       guess=여자       name=Siffre                        \n",
            "correct=남자       guess=여자       name=Slade                         \n",
            "correct=남자       guess=여자       name=Sloane                        \n",
            "correct=남자       guess=여자       name=Spike                         \n",
            "correct=남자       guess=여자       name=Stanly                        \n",
            "correct=남자       guess=여자       name=Sterne                        \n",
            "correct=남자       guess=여자       name=Stinky                        \n",
            "correct=남자       guess=여자       name=Taite                         \n",
            "correct=남자       guess=여자       name=Thaine                        \n",
            "correct=남자       guess=여자       name=Thane                         \n",
            "correct=남자       guess=여자       name=Timmy                         \n",
            "correct=남자       guess=여자       name=Tobiah                        \n",
            "correct=남자       guess=여자       name=Tony                          \n",
            "correct=남자       guess=여자       name=Towny                         \n",
            "correct=남자       guess=여자       name=Tracy                         \n",
            "correct=남자       guess=여자       name=Tymothy                       \n",
            "correct=남자       guess=여자       name=Udale                         \n",
            "correct=남자       guess=여자       name=Uli                           \n",
            "correct=남자       guess=여자       name=Vasili                        \n",
            "correct=남자       guess=여자       name=Waite                         \n",
            "correct=남자       guess=여자       name=Welbie                        \n",
            "correct=남자       guess=여자       name=Wesley                        \n",
            "correct=남자       guess=여자       name=Westleigh                     \n",
            "correct=남자       guess=여자       name=Whitney                       \n",
            "correct=남자       guess=여자       name=Willi                         \n",
            "correct=남자       guess=여자       name=Willie                        \n",
            "correct=남자       guess=여자       name=Wolfy                         \n",
            "correct=남자       guess=여자       name=Yale                          \n",
            "correct=남자       guess=여자       name=Yankee                        \n",
            "correct=남자       guess=여자       name=Yardley                       \n",
            "correct=남자       guess=여자       name=Yehudi                        \n",
            "correct=남자       guess=여자       name=Yule                          \n",
            "correct=남자       guess=여자       name=Zach                          \n",
            "correct=남자       guess=여자       name=Zane                          \n",
            "correct=남자       guess=여자       name=Zebadiah                      \n",
            "correct=남자       guess=여자       name=Zebedee                       \n",
            "correct=남자       guess=여자       name=Zolly                         \n",
            "correct=여자       guess=남자       name=Amber                         \n",
            "correct=여자       guess=남자       name=Anais                         \n",
            "correct=여자       guess=남자       name=Ariel                         \n",
            "correct=여자       guess=남자       name=Arleen                        \n",
            "correct=여자       guess=남자       name=Beatriz                       \n",
            "correct=여자       guess=남자       name=Betteann                      \n",
            "correct=여자       guess=남자       name=Brear                         \n",
            "correct=여자       guess=남자       name=Bren                          \n",
            "correct=여자       guess=남자       name=Brooks                        \n",
            "correct=여자       guess=남자       name=Carlen                        \n",
            "correct=여자       guess=남자       name=Carmon                        \n",
            "correct=여자       guess=남자       name=Carolyn                       \n",
            "correct=여자       guess=남자       name=Caron                         \n",
            "correct=여자       guess=남자       name=Caryl                         \n",
            "correct=여자       guess=남자       name=Cat                           \n",
            "correct=여자       guess=남자       name=Cathryn                       \n",
            "correct=여자       guess=남자       name=Ceil                          \n",
            "correct=여자       guess=남자       name=Charlean                      \n",
            "correct=여자       guess=남자       name=Chris                         \n",
            "correct=여자       guess=남자       name=Christabel                    \n",
            "correct=여자       guess=남자       name=Chrystal                      \n",
            "correct=여자       guess=남자       name=Clo                           \n",
            "correct=여자       guess=남자       name=Cristal                       \n",
            "correct=여자       guess=남자       name=Dael                          \n",
            "correct=여자       guess=남자       name=Daryl                         \n",
            "correct=여자       guess=남자       name=Dawn                          \n",
            "correct=여자       guess=남자       name=Del                           \n",
            "correct=여자       guess=남자       name=Delores                       \n",
            "correct=여자       guess=남자       name=Demetris                      \n",
            "correct=여자       guess=남자       name=Devan                         \n",
            "correct=여자       guess=남자       name=Dian                          \n",
            "correct=여자       guess=남자       name=Dido                          \n",
            "correct=여자       guess=남자       name=Dionis                        \n",
            "correct=여자       guess=남자       name=Doloritas                     \n",
            "correct=여자       guess=남자       name=Doreen                        \n",
            "correct=여자       guess=남자       name=Dyann                         \n",
            "correct=여자       guess=남자       name=Ealasaid                      \n",
            "correct=여자       guess=남자       name=Eden                          \n",
            "correct=여자       guess=남자       name=Ellyn                         \n",
            "correct=여자       guess=남자       name=Elyn                          \n",
            "correct=여자       guess=남자       name=Em                            \n",
            "correct=여자       guess=남자       name=Estel                         \n",
            "correct=여자       guess=남자       name=Esther                        \n",
            "correct=여자       guess=남자       name=Farand                        \n",
            "correct=여자       guess=남자       name=Felicdad                      \n",
            "correct=여자       guess=남자       name=Flo                           \n",
            "correct=여자       guess=남자       name=Floris                        \n",
            "correct=여자       guess=남자       name=Francis                       \n",
            "correct=여자       guess=남자       name=Fred                          \n",
            "correct=여자       guess=남자       name=Ginger                        \n",
            "correct=여자       guess=남자       name=Glen                          \n",
            "correct=여자       guess=남자       name=Gretel                        \n",
            "correct=여자       guess=남자       name=Gwendolin                     \n",
            "correct=여자       guess=남자       name=Hannibal                      \n",
            "correct=여자       guess=남자       name=Ingaberg                      \n",
            "correct=여자       guess=남자       name=Ingrid                        \n",
            "correct=여자       guess=남자       name=Isabeau                       \n",
            "correct=여자       guess=남자       name=Jackelyn                      \n",
            "correct=여자       guess=남자       name=Janis                         \n",
            "correct=여자       guess=남자       name=Jill                          \n",
            "correct=여자       guess=남자       name=Joellyn                       \n",
            "correct=여자       guess=남자       name=Jolyn                         \n",
            "correct=여자       guess=남자       name=Jordain                       \n",
            "correct=여자       guess=남자       name=Joscelin                      \n",
            "correct=여자       guess=남자       name=Katheleen                     \n",
            "correct=여자       guess=남자       name=Katheryn                      \n",
            "correct=여자       guess=남자       name=Keren                         \n",
            "correct=여자       guess=남자       name=Kim                           \n",
            "correct=여자       guess=남자       name=Kip                           \n",
            "correct=여자       guess=남자       name=Koren                         \n",
            "correct=여자       guess=남자       name=Kristien                      \n",
            "correct=여자       guess=남자       name=LeeAnn                        \n",
            "correct=여자       guess=남자       name=Leeann                        \n",
            "correct=여자       guess=남자       name=Lian                          \n",
            "correct=여자       guess=남자       name=Lib                           \n",
            "correct=여자       guess=남자       name=Lilian                        \n",
            "correct=여자       guess=남자       name=Lillian                       \n",
            "correct=여자       guess=남자       name=Lorain                        \n",
            "correct=여자       guess=남자       name=Lyndell                       \n",
            "correct=여자       guess=남자       name=Lynnett                       \n",
            "correct=여자       guess=남자       name=Mab                           \n",
            "correct=여자       guess=남자       name=Mabel                         \n",
            "correct=여자       guess=남자       name=Margaux                       \n",
            "correct=여자       guess=남자       name=Margret                       \n",
            "correct=여자       guess=남자       name=Maridel                       \n",
            "correct=여자       guess=남자       name=Marieann                      \n",
            "correct=여자       guess=남자       name=Marion                        \n",
            "correct=여자       guess=남자       name=Marlo                         \n",
            "correct=여자       guess=남자       name=Maureen                       \n",
            "correct=여자       guess=남자       name=Meriel                        \n",
            "correct=여자       guess=남자       name=Michell                       \n",
            "correct=여자       guess=남자       name=Milissent                     \n",
            "correct=여자       guess=남자       name=Morgen                        \n",
            "correct=여자       guess=남자       name=Nitin                         \n",
            "correct=여자       guess=남자       name=Noel                          \n",
            "correct=여자       guess=남자       name=Noellyn                       \n",
            "correct=여자       guess=남자       name=Opal                          \n",
            "correct=여자       guess=남자       name=Pen                           \n",
            "correct=여자       guess=남자       name=Raychel                       \n",
            "correct=여자       guess=남자       name=Riannon                       \n",
            "correct=여자       guess=남자       name=Robin                         \n",
            "correct=여자       guess=남자       name=Robinet                       \n",
            "correct=여자       guess=남자       name=Scarlett                      \n",
            "correct=여자       guess=남자       name=Sheila-Kathryn                \n",
            "correct=여자       guess=남자       name=Sheril                        \n",
            "correct=여자       guess=남자       name=Stoddard                      \n",
            "correct=여자       guess=남자       name=Van                           \n",
            "correct=여자       guess=남자       name=Vivien                        \n"
          ]
        }
      ]
    },
    {
      "cell_type": "markdown",
      "metadata": {
        "id": "u2fWSTxdO5PD"
      },
      "source": [
        "### 마지막 두 글자 사용"
      ]
    },
    {
      "cell_type": "code",
      "metadata": {
        "id": "T23cUYXmO5PE"
      },
      "source": [
        "def gender_features(word):\n",
        "    return {'suffix1': word[-1:],\n",
        "            'suffix2': word[-2:]}"
      ],
      "execution_count": null,
      "outputs": []
    },
    {
      "cell_type": "code",
      "metadata": {
        "id": "ZHkp6TnIO5PE"
      },
      "source": [
        "train_set = [(gender_features(n), gender) for (n, gender) in train_names]\n",
        "devtest_set = [(gender_features(n), gender) for (n, gender) in devtest_names]"
      ],
      "execution_count": null,
      "outputs": []
    },
    {
      "cell_type": "code",
      "metadata": {
        "colab": {
          "base_uri": "https://localhost:8080/"
        },
        "id": "ljfHu2j8O5PE",
        "outputId": "9e183fcb-9a22-4574-d9e9-e33996fd521a"
      },
      "source": [
        "train_set[:10]"
      ],
      "execution_count": null,
      "outputs": [
        {
          "output_type": "execute_result",
          "data": {
            "text/plain": [
              "[({'suffix1': 'd', 'suffix2': 'rd'}, '남자'),\n",
              " ({'suffix1': 'y', 'suffix2': 'ey'}, '남자'),\n",
              " ({'suffix1': 'l', 'suffix2': 'el'}, '여자'),\n",
              " ({'suffix1': 'a', 'suffix2': 'ma'}, '여자'),\n",
              " ({'suffix1': 'n', 'suffix2': 'en'}, '남자'),\n",
              " ({'suffix1': 'y', 'suffix2': 'ty'}, '여자'),\n",
              " ({'suffix1': 'a', 'suffix2': 'la'}, '여자'),\n",
              " ({'suffix1': 'k', 'suffix2': 'ck'}, '남자'),\n",
              " ({'suffix1': 'e', 'suffix2': 'ie'}, '남자'),\n",
              " ({'suffix1': 'a', 'suffix2': 'ta'}, '여자')]"
            ]
          },
          "metadata": {},
          "execution_count": 28
        }
      ]
    },
    {
      "cell_type": "code",
      "metadata": {
        "colab": {
          "base_uri": "https://localhost:8080/"
        },
        "id": "lR02T6HSO5PE",
        "outputId": "d08878fe-1b5d-4a1f-f8d5-f6939ae3cd33"
      },
      "source": [
        "classifier = nltk.NaiveBayesClassifier.train(train_set)\n",
        "print(nltk.classify.accuracy(classifier, devtest_set))"
      ],
      "execution_count": null,
      "outputs": [
        {
          "output_type": "stream",
          "name": "stdout",
          "text": [
            "0.771\n"
          ]
        }
      ]
    },
    {
      "cell_type": "code",
      "metadata": {
        "colab": {
          "base_uri": "https://localhost:8080/"
        },
        "id": "sxDciDxBO5PE",
        "outputId": "e2f6504d-ccf0-4daf-83a6-e1ec9c1d0603"
      },
      "source": [
        "# train_set[:20]\n",
        "train_names[:20]"
      ],
      "execution_count": null,
      "outputs": [
        {
          "output_type": "execute_result",
          "data": {
            "text/plain": [
              "[('Bernhard', '남자'),\n",
              " ('Dabney', '남자'),\n",
              " ('Hazel', '여자'),\n",
              " ('Guillema', '여자'),\n",
              " ('Shelden', '남자'),\n",
              " ('Dusty', '여자'),\n",
              " ('Zola', '여자'),\n",
              " ('Ulrick', '남자'),\n",
              " ('Brodie', '남자'),\n",
              " ('Trista', '여자'),\n",
              " ('Sherwin', '남자'),\n",
              " ('Justine', '여자'),\n",
              " ('Frans', '남자'),\n",
              " ('Thomasina', '여자'),\n",
              " ('Nissie', '여자'),\n",
              " ('Terence', '남자'),\n",
              " ('Theo', '여자'),\n",
              " ('Tedi', '여자'),\n",
              " ('Alfonso', '남자'),\n",
              " ('Eirena', '여자')]"
            ]
          },
          "metadata": {},
          "execution_count": 30
        }
      ]
    },
    {
      "cell_type": "markdown",
      "source": [
        "# Exercise"
      ],
      "metadata": {
        "id": "RZOfbkFYVb-X"
      }
    },
    {
      "cell_type": "code",
      "source": [
        "# for exercise\n",
        "test = [2,3,4,5,2,2,2]\n",
        "test.count(2)    # 4\n",
        "test2 = 'abcdefgggggggggggGgggggggggggg'\n",
        "test2.lower().count('g')    # 24\n",
        "test2.count('g')  # 23\n",
        "test2.count('{}'.format('ggg'))       # same, % 연산자 대신 {} 를 써서 format() 사용함. - 새로운 방식"
      ],
      "metadata": {
        "colab": {
          "base_uri": "https://localhost:8080/"
        },
        "id": "1FQLi8guVcUt",
        "outputId": "9503b852-ac0b-47f6-dc9e-7fc06f02234b"
      },
      "execution_count": null,
      "outputs": [
        {
          "output_type": "execute_result",
          "data": {
            "text/plain": [
              "7"
            ]
          },
          "metadata": {},
          "execution_count": 31
        }
      ]
    }
  ]
}